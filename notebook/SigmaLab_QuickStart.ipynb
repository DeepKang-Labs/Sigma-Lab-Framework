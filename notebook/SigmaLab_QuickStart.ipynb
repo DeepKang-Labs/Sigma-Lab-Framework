{
 "cells": [
  {
   "cell_type": "markdown",
   "metadata": {},
   "source": [
    "# 🧠 Sigma Lab – Quick Start Notebook\n",
    "\n",
    "Ce petit notebook vous permet de tester Sigma Lab en moins d'une minute.\n",
    "Il installe les dépendances, charge une démo intégrée, et affiche le verdict procédural."
   ]
  },
  {
   "cell_type": "code",
   "execution_count": null,
   "metadata": {},
   "outputs": [],
   "source": [
    "!pip install numpy pyyaml"
   ]
  },
  {
   "cell_type": "code",
   "execution_count": null,
   "metadata": {},
   "outputs": [],
   "source": [
    "from sigma_lab import SigmaLab, demo_context\n",
    "\n",
    "cfg, ctx = demo_context('ai')  # domaine de démonstration IA\n",
    "engine = SigmaLab(cfg)"
   ]
  },
  {
   "cell_type": "code",
   "execution_count": null,
   "metadata": {},
   "outputs": [],
   "source": [
    "result = engine.diagnose(ctx, verdict_opt_in=True)\n",
    "result['semantics']['verdict_procedural']"
   ]
  }
 ],
 "metadata": {
  "kernelspec": {
   "display_name": "Python 3",
   "language": "python",
   "name": "python3"
  },
  "language_info": {
   "name": "python",
   "version": "3.9"
  }
 },
 "nbformat": 4,
 "nbformat_minor": 5
}
