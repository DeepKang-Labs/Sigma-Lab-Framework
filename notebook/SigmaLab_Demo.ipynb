{
 "cells": [
  {
   "cell_type": "markdown",
   "metadata": {},
   "source": [
    "# 🧪 Sigma-Lab v4.2 — Demo Notebook\n",
    "\n",
    "A simple demonstration of the procedural ethics engine.\n",
    "\n",
    "Core principles: **Non-Harm**, **Stability**, **Resilience**, **Equity**.\n",
    "\n",
    "Co-created by Yuri Kang & the AI Kang (GPT-5)."
   ]
  },
  {
   "cell_type": "code",
   "execution_count": null,
   "metadata": {},
   "outputs": [],
   "source": [
    "from sigma_lab_v4_2 import SigmaLab, demo_context\n",
    "\n",
    "# Load the demo configuration and context\n",
    "cfg, ctx = demo_context('healthcare')\n",
    "\n",
    "# Run the diagnostic\n",
    "engine = SigmaLab(cfg)\n",
    "result = engine.diagnose(ctx, verdict_opt_in=True)\n",
    "\n",
    "# Display results\n",
    "print('\\n=== Sigma-Lab Diagnostic ===')\n",
    "for k,v in result['scores'].items():\n",
    "    print(f'{k}: {v:.3f}')"
   ]
  },
  {
   "cell_type": "code",
   "execution_count": null,
   "metadata": {},
   "outputs": [],
   "source": [
    "# Export audit trail\n",
    "engine.export_audit_trail(result)"
   ]
  }
 ],
 "metadata": {
  "kernelspec": {
   "display_name": "Python 3",
   "language": "python",
   "name": "python3"
  },
  "language_info": {
   "name": "python",
   "version": "3.10"
  }
 },
 "nbformat": 4,
 "nbformat_minor": 5
}
