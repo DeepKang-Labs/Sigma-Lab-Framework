# SigmaLab v5.1 Demonstration Notebook
# Case Study: Healthcare Prioritization Policy
# DeepKang Labs © 2025 - MIT License
# ============================================

# 1️⃣ Imports
import json, yaml, hashlib, datetime
from sigma_lab_v4_2 import SigmaLab, demo_context

# 2️⃣ Initialisation du moteur
cfg, ctx = demo_context("healthcare")
engine = SigmaLab(cfg)

print("🧠 Sigma-Lab v5.1 — Procedural Diagnostic Framework")
print("Case: Healthcare Prioritization\n")

# 3️⃣ Lancer un diagnostic complet
result = engine.diagnose(ctx)

# 4️⃣ Affichage des résultats synthétiques
print("=== Diagnostic Summary ===")
for k, v in result["scores"].items():
    print(f"{k:<12} → {v:.3f}")

print("\nVetoes:", result["vetoes"] or "None")
print("Verdict:", result.get("verdict", "Undecided"))

# 5️⃣ Export de l’audit trail
audit = engine.export_audit_trail(result)

# Ajout d’un hash de traçabilité
audit_hash = hashlib.sha256(json.dumps(audit, sort_keys=True).encode()).hexdigest()
audit["sha256"] = audit_hash

# Sauvegarde locale
with open("audit_report_healthcare.yaml", "w", encoding="utf-8") as f:
    yaml.dump(audit, f, allow_unicode=True)

print("\n📄 Audit trail exported: audit_report_healthcare.yaml")
print("🔐 SHA256 fingerprint:", audit_hash[:24], "...")

# 6️⃣ Visualisation rapide (textuelle)
import matplotlib.pyplot as plt

labels = list(result["scores"].keys())
values = list(result["scores"].values())

plt.figure(figsize=(7,4))
bars = plt.bar(labels, values)
plt.title("Sigma-Lab v5.1 — Diagnostic Scores (Healthcare)")
plt.ylim(0, 1)
for bar in bars:
    plt.text(bar.get_x() + bar.get_width()/2, bar.get_height()+0.02,
             f"{bar.get_height():.2f}", ha="center", fontsize=9)
plt.show()

# 7️⃣ Validation (sanity check)
assert all(0.0 <= v <= 1.0 for v in values), "Risk values out of range!"
print("\n✅ Validation check passed — all metrics normalized [0,1].")

# 8️⃣ Résumé final
summary = {
    "timestamp": datetime.datetime.utcnow().isoformat(),
    "status": result["status"],
    "verdict": result["verdict"],
    "sha256": audit_hash,
}

print("\n=== Summary ===")
print(json.dumps(summary, indent=2))


---

🧩 Fonctionnalités intégrées

Module	Fonction	Description

sigma_lab_v4_2	SigmaLab, demo_context	Cœur du moteur éthique
YAML export	audit_report_healthcare.yaml	Audit complet + provenance
SHA256	audit["sha256"]	Garantit la traçabilité
Matplotlib	Diagramme barres	Visualisation intuitive
Assertions	Sanity check	Normalisation automatique



---

💾 Sorties attendues

audit_report_healthcare.yaml
→ contient : configuration, verdict, traçabilité

Graphique matplotlib
→ quatre barres : Non-harm / Stability / Resilience / Equity

Résumé console

✅ Validation check passed — all metrics normalized [0,1].
Verdict: None
SHA256 fingerprint: 42d8b7b4d89a8f9e52a2aa...
